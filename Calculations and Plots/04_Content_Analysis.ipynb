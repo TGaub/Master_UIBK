{
 "cells": [
  {
   "cell_type": "markdown",
   "id": "f33a921f",
   "metadata": {},
   "source": [
    "### Systematic Literature Review - Descriptive Analysis\n",
    "Tamino Gaub  \n",
    "12314484  \n",
    "<tamino.gaub@student.uibk.ac.at>"
   ]
  },
  {
   "cell_type": "code",
   "execution_count": 5,
   "id": "3d7f96ae",
   "metadata": {},
   "outputs": [
    {
     "data": {
      "application/vnd.microsoft.datawrangler.viewer.v0+json": {
       "columns": [
        {
         "name": "index",
         "rawType": "object",
         "type": "string"
        },
        {
         "name": "Nr.",
         "rawType": "float64",
         "type": "float"
        },
        {
         "name": "ACC",
         "rawType": "float64",
         "type": "float"
        },
        {
         "name": "REC",
         "rawType": "float64",
         "type": "float"
        },
        {
         "name": "PRE",
         "rawType": "float64",
         "type": "float"
        },
        {
         "name": "F1-Score",
         "rawType": "float64",
         "type": "float"
        },
        {
         "name": "mAP[0.5:0.95]",
         "rawType": "float64",
         "type": "float"
        },
        {
         "name": "mAP[0.5]",
         "rawType": "float64",
         "type": "float"
        }
       ],
       "ref": "0826b629-192a-4ccb-bee7-6811060a9d3b",
       "rows": [
        [
         "count",
         "68.0",
         "40.0",
         "25.0",
         "22.0",
         "22.0",
         "7.0",
         "20.0"
        ],
        [
         "mean",
         "65.08823529411765",
         "93.92839880952381",
         "86.19268888888888",
         "90.94727272727273",
         "91.27888888888889",
         "78.62285714285714",
         "84.6335"
        ],
        [
         "std",
         "44.22997406504504",
         "5.518498018397349",
         "14.500713580142644",
         "8.753126403601279",
         "9.760534312759049",
         "23.299202214014187",
         "18.396705733421545"
        ],
        [
         "min",
         "1.0",
         "74.75",
         "47.5",
         "65.8",
         "57.99999999999999",
         "30.9",
         "36.5"
        ],
        [
         "25%",
         "25.75",
         "92.17500000000001",
         "82.0",
         "86.23750000000001",
         "89.665",
         "76.15",
         "83.05"
        ],
        [
         "50%",
         "66.0",
         "94.43214285714285",
         "92.0",
         "93.91333333333333",
         "93.39",
         "85.00999999999999",
         "89.25"
        ],
        [
         "75%",
         "94.5",
         "98.7",
         "95.5",
         "97.0",
         "98.0125",
         "91.82499999999999",
         "97.94999999999999"
        ],
        [
         "max",
         "154.0",
         "99.9",
         "100.0",
         "100.0",
         "99.7",
         "98.5",
         "99.83"
        ]
       ],
       "shape": {
        "columns": 7,
        "rows": 8
       }
      },
      "text/html": [
       "<div>\n",
       "<style scoped>\n",
       "    .dataframe tbody tr th:only-of-type {\n",
       "        vertical-align: middle;\n",
       "    }\n",
       "\n",
       "    .dataframe tbody tr th {\n",
       "        vertical-align: top;\n",
       "    }\n",
       "\n",
       "    .dataframe thead th {\n",
       "        text-align: right;\n",
       "    }\n",
       "</style>\n",
       "<table border=\"1\" class=\"dataframe\">\n",
       "  <thead>\n",
       "    <tr style=\"text-align: right;\">\n",
       "      <th></th>\n",
       "      <th>Nr.</th>\n",
       "      <th>ACC</th>\n",
       "      <th>REC</th>\n",
       "      <th>PRE</th>\n",
       "      <th>F1-Score</th>\n",
       "      <th>mAP[0.5:0.95]</th>\n",
       "      <th>mAP[0.5]</th>\n",
       "    </tr>\n",
       "  </thead>\n",
       "  <tbody>\n",
       "    <tr>\n",
       "      <th>count</th>\n",
       "      <td>68.000000</td>\n",
       "      <td>40.000000</td>\n",
       "      <td>25.000000</td>\n",
       "      <td>22.000000</td>\n",
       "      <td>22.000000</td>\n",
       "      <td>7.000000</td>\n",
       "      <td>20.000000</td>\n",
       "    </tr>\n",
       "    <tr>\n",
       "      <th>mean</th>\n",
       "      <td>65.088235</td>\n",
       "      <td>93.928399</td>\n",
       "      <td>86.192689</td>\n",
       "      <td>90.947273</td>\n",
       "      <td>91.278889</td>\n",
       "      <td>78.622857</td>\n",
       "      <td>84.633500</td>\n",
       "    </tr>\n",
       "    <tr>\n",
       "      <th>std</th>\n",
       "      <td>44.229974</td>\n",
       "      <td>5.518498</td>\n",
       "      <td>14.500714</td>\n",
       "      <td>8.753126</td>\n",
       "      <td>9.760534</td>\n",
       "      <td>23.299202</td>\n",
       "      <td>18.396706</td>\n",
       "    </tr>\n",
       "    <tr>\n",
       "      <th>min</th>\n",
       "      <td>1.000000</td>\n",
       "      <td>74.750000</td>\n",
       "      <td>47.500000</td>\n",
       "      <td>65.800000</td>\n",
       "      <td>58.000000</td>\n",
       "      <td>30.900000</td>\n",
       "      <td>36.500000</td>\n",
       "    </tr>\n",
       "    <tr>\n",
       "      <th>25%</th>\n",
       "      <td>25.750000</td>\n",
       "      <td>92.175000</td>\n",
       "      <td>82.000000</td>\n",
       "      <td>86.237500</td>\n",
       "      <td>89.665000</td>\n",
       "      <td>76.150000</td>\n",
       "      <td>83.050000</td>\n",
       "    </tr>\n",
       "    <tr>\n",
       "      <th>50%</th>\n",
       "      <td>66.000000</td>\n",
       "      <td>94.432143</td>\n",
       "      <td>92.000000</td>\n",
       "      <td>93.913333</td>\n",
       "      <td>93.390000</td>\n",
       "      <td>85.010000</td>\n",
       "      <td>89.250000</td>\n",
       "    </tr>\n",
       "    <tr>\n",
       "      <th>75%</th>\n",
       "      <td>94.500000</td>\n",
       "      <td>98.700000</td>\n",
       "      <td>95.500000</td>\n",
       "      <td>97.000000</td>\n",
       "      <td>98.012500</td>\n",
       "      <td>91.825000</td>\n",
       "      <td>97.950000</td>\n",
       "    </tr>\n",
       "    <tr>\n",
       "      <th>max</th>\n",
       "      <td>154.000000</td>\n",
       "      <td>99.900000</td>\n",
       "      <td>100.000000</td>\n",
       "      <td>100.000000</td>\n",
       "      <td>99.700000</td>\n",
       "      <td>98.500000</td>\n",
       "      <td>99.830000</td>\n",
       "    </tr>\n",
       "  </tbody>\n",
       "</table>\n",
       "</div>"
      ],
      "text/plain": [
       "              Nr.        ACC         REC         PRE   F1-Score  \\\n",
       "count   68.000000  40.000000   25.000000   22.000000  22.000000   \n",
       "mean    65.088235  93.928399   86.192689   90.947273  91.278889   \n",
       "std     44.229974   5.518498   14.500714    8.753126   9.760534   \n",
       "min      1.000000  74.750000   47.500000   65.800000  58.000000   \n",
       "25%     25.750000  92.175000   82.000000   86.237500  89.665000   \n",
       "50%     66.000000  94.432143   92.000000   93.913333  93.390000   \n",
       "75%     94.500000  98.700000   95.500000   97.000000  98.012500   \n",
       "max    154.000000  99.900000  100.000000  100.000000  99.700000   \n",
       "\n",
       "       mAP[0.5:0.95]   mAP[0.5]  \n",
       "count       7.000000  20.000000  \n",
       "mean       78.622857  84.633500  \n",
       "std        23.299202  18.396706  \n",
       "min        30.900000  36.500000  \n",
       "25%        76.150000  83.050000  \n",
       "50%        85.010000  89.250000  \n",
       "75%        91.825000  97.950000  \n",
       "max        98.500000  99.830000  "
      ]
     },
     "execution_count": 5,
     "metadata": {},
     "output_type": "execute_result"
    }
   ],
   "source": [
    "import warnings\n",
    "import pandas as pd\n",
    "import numpy as np\n",
    "\n",
    "# Suppress specific warnings\n",
    "warnings.simplefilter(action='ignore', category=UserWarning)\n",
    "warnings.simplefilter(action='ignore', category=FutureWarning)\n",
    "\n",
    "file_path = '../02_SLR_20250726.xlsx'\n",
    "\n",
    "# Read the Excel file and filter rows where 'EC/!IC' is NaN\n",
    "df = pd.read_excel(file_path, sheet_name='SLR - 26.07.2025', header=1)\n",
    "df = df[df['EC/!IC'].isna()]\n",
    "df = df[['Nr.', 'ACC', 'REC', 'PRE', 'F1-Score', 'mAP[0.5:0.95]', 'mAP[0.5]']]\n",
    "\n",
    "\n",
    "# List of columns to convert\n",
    "cols_to_convert = ['ACC', 'REC', 'PRE', 'F1-Score', 'mAP[0.5:0.95]', 'mAP[0.5]']\n",
    "\n",
    "for col in cols_to_convert:\n",
    "    # Step 1: Replace '-' with np.nan\n",
    "    df[col] = df[col].replace('-', np.nan)\n",
    "\n",
    "    # Step 2: Explicitly convert the type\n",
    "    df[col] = pd.to_numeric(df[col], errors='coerce') * 100\n",
    "\n",
    "df.describe()"
   ]
  },
  {
   "cell_type": "code",
   "execution_count": 6,
   "id": "866a5406",
   "metadata": {},
   "outputs": [
    {
     "data": {
      "image/png": "[encoded data removed]",
      "text/plain": [
       "<Figure size 680x420 with 1 Axes>"
      ]
     },
     "metadata": {},
     "output_type": "display_data"
    }
   ],
   "source": [
    "import matplotlib.pyplot as plt\n",
    "import matplotlib.font_manager as fm\n",
    "from matplotlib.lines import Line2D\n",
    "\n",
    "# Settings\n",
    "cols = ['ACC', 'REC', 'PRE', 'F1-Score', 'mAP[0.5]', 'mAP[0.5:0.95]']\n",
    "xtick_labels = ['Accuracy', 'Recall', 'Precision', 'F1-Score', 'mAP@[0.5]', 'mAP@[0.5:0.95]',]\n",
    "\n",
    "# CI Colors\n",
    "nightBlue = '#000a32'\n",
    "purple = '#8264ff'\n",
    "lightGray = '#e6e6e6'\n",
    "darkGray = '#787882'\n",
    "\n",
    "# Palatino font\n",
    "palatino_regular = fm.FontProperties(fname=r\"C:\\WINDOWS\\Fonts\\PALA.TTF\", size=10)\n",
    "palatino_small = fm.FontProperties(fname=r\"C:\\WINDOWS\\Fonts\\PALA.TTF\", size=8)\n",
    "\n",
    "# Data Preparation\n",
    "data_for_plot, medians, means, counts = [], [], [], []\n",
    "for c in cols:\n",
    "    arr = df[c].dropna().astype(float).values\n",
    "    data_for_plot.append(arr)\n",
    "    counts.append(arr.size)\n",
    "    medians.append(np.nan if arr.size == 0 else np.median(arr))\n",
    "    means.append(np.nan if arr.size == 0 else np.mean(arr))\n",
    "\n",
    "# Layout and Plot\n",
    "fig, ax = plt.subplots(figsize=(6.8, 4.2))\n",
    "pos_factor = 1.4\n",
    "positions = np.arange(1, len(cols) + 1) * pos_factor\n",
    "\n",
    "# === Boxplot ===\n",
    "box = ax.boxplot(\n",
    "    data_for_plot,\n",
    "    positions=positions,\n",
    "    widths=0.6,\n",
    "    patch_artist=True,\n",
    "    showfliers=True,\n",
    "    showmeans=True,\n",
    "    flierprops={'marker': 'o', 'markersize': 5, 'markerfacecolor': purple,\n",
    "                'markeredgecolor': nightBlue, 'alpha': 0.95},\n",
    "    boxprops={'facecolor': purple, 'edgecolor': nightBlue, 'linewidth': 1},\n",
    "    whiskerprops={'color': nightBlue, 'linewidth': 1},\n",
    "    capprops={'color': nightBlue, 'linewidth': 1},\n",
    "    medianprops={'color': nightBlue, 'linewidth': 1.5},\n",
    "    meanprops={'marker': 'o', 'markerfacecolor': nightBlue, 'markeredgecolor': nightBlue, 'markersize': 3},\n",
    "    whis=1.5\n",
    ")\n",
    "\n",
    "# X-Ticks\n",
    "ax.set_xticks(positions)\n",
    "ax.set_xticklabels(xtick_labels, rotation=30, ha='right',\n",
    "                   fontproperties=palatino_regular, fontsize=10)\n",
    "\n",
    "# Create space on the side for mean values\n",
    "ax.set_xlim(positions[0] - 0.8, positions[-1] + 1.2)\n",
    "\n",
    "# Sample size n over the x-axis\n",
    "for pos, n in zip(positions, counts):\n",
    "    ax.text(pos, 0.07, f\"(n={n})\",\n",
    "            transform=ax.get_xaxis_transform(),  # refers to axis\n",
    "            ha='center', va='top',\n",
    "            fontproperties=palatino_small, fontsize=9,\n",
    "            color='#000000')\n",
    "\n",
    "# Mean values on the right just outside the box\n",
    "if len(positions) > 1:\n",
    "    spacing = positions[1] - positions[0]\n",
    "else:\n",
    "    spacing = 1.0\n",
    "x_offset = 0.06 * spacing  # small offset\n",
    "\n",
    "for i, med in enumerate(means):\n",
    "    if np.isnan(med):\n",
    "        continue\n",
    "    verts = box['boxes'][i].get_path().vertices\n",
    "    x_right_box = np.max(verts[:, 0])\n",
    "    x_text = x_right_box + x_offset\n",
    "    ax.text(x_text, med, f\"{med:.1f} %\",\n",
    "            ha='left', va='center',\n",
    "            fontproperties=palatino_regular, fontsize=9,\n",
    "            color=nightBlue)\n",
    "\n",
    "# Labels and Limits\n",
    "ax.set_ylabel('Percentage (%)', fontproperties=palatino_regular, fontsize=11)\n",
    "ax.set_ylim(0, 100)\n",
    "\n",
    "for lbl in ax.get_yticklabels():\n",
    "    lbl.set_fontproperties(palatino_regular)\n",
    "    lbl.set_fontsize(11)\n",
    "\n",
    "# Legend bottom right in the plot area\n",
    "median_handle = Line2D([0], [0], color=nightBlue, lw=2, label='Median')\n",
    "mean_handle = Line2D([0], [0], marker='.', color='w', markerfacecolor=nightBlue,\n",
    "                     markeredgecolor=nightBlue, markersize=6, linestyle='None', label='Mean')\n",
    "outlier_handle = Line2D([0], [0], marker='o', color='w', markerfacecolor=purple,\n",
    "                        markeredgecolor=nightBlue, markersize=6, linestyle='None', label='Outlier')\n",
    "\n",
    "ax.legend(handles=[mean_handle, median_handle, outlier_handle],\n",
    "          loc='upper center', bbox_to_anchor=(0.5, -0.3),  # below the axis\n",
    "          ncol=3, prop=palatino_small, frameon=False)\n",
    "\n",
    "# Final Adjustments\n",
    "ax.grid(axis='y', linestyle='--', linewidth=0.5, color=lightGray, alpha=0.9)\n",
    "ax.spines['top'].set_visible(False)\n",
    "ax.spines['right'].set_visible(False)\n",
    "\n",
    "plt.tight_layout()\n",
    "plt.savefig('Plot Outputs/05_Performance_Measurements.pdf', dpi=600, bbox_inches='tight', transparent=True)\n",
    "plt.show()\n"
   ]
  },
  {
   "cell_type": "code",
   "execution_count": 7,
   "id": "638b5f9a",
   "metadata": {},
   "outputs": [
    {
     "name": "stdout",
     "output_type": "stream",
     "text": [
      "Mean Values:\n",
      " ACC              93.928399\n",
      "REC              86.192689\n",
      "PRE              90.947273\n",
      "F1-Score         91.278889\n",
      "mAP[0.5:0.95]    78.622857\n",
      "mAP[0.5]         84.633500\n",
      "dtype: float64\n",
      "\n",
      "Median Values:\n",
      " ACC              94.432143\n",
      "REC              92.000000\n",
      "PRE              93.913333\n",
      "F1-Score         93.390000\n",
      "mAP[0.5:0.95]    85.010000\n",
      "mAP[0.5]         89.250000\n",
      "dtype: float64\n"
     ]
    }
   ],
   "source": [
    "# Mean and Median Values for ACC, REC, PRE, F1-Score, mAP[0.5:0.95], mAP[0.5] (excluding 'Nr.')\n",
    "mean_values = df.drop(columns='Nr.').mean()\n",
    "median_values = df.drop(columns='Nr.').median()\n",
    "print(\"Mean Values:\\n\", mean_values)\n",
    "print(\"\\nMedian Values:\\n\", median_values)"
   ]
  },
  {
   "cell_type": "markdown",
   "id": "33efc62a",
   "metadata": {},
   "source": [
    "# Plot Measurement Time"
   ]
  },
  {
   "cell_type": "code",
   "execution_count": 8,
   "id": "7a6a1f34",
   "metadata": {},
   "outputs": [
    {
     "data": {
      "application/vnd.microsoft.datawrangler.viewer.v0+json": {
       "columns": [
        {
         "name": "index",
         "rawType": "object",
         "type": "string"
        },
        {
         "name": "Nr.",
         "rawType": "float64",
         "type": "float"
        },
        {
         "name": "Measurement Time (ms)",
         "rawType": "float64",
         "type": "float"
        }
       ],
       "ref": "eb34824c-2a86-4503-8926-ec4471ebc126",
       "rows": [
        [
         "count",
         "68.0",
         "25.0"
        ],
        [
         "mean",
         "65.08823529411765",
         "365.1509703233093"
        ],
        [
         "std",
         "44.22997406504504",
         "729.1082813358634"
        ],
        [
         "min",
         "1.0",
         "4.9"
        ],
        [
         "25%",
         "25.75",
         "18.22"
        ],
        [
         "50%",
         "66.0",
         "49.2"
        ],
        [
         "75%",
         "94.5",
         "260.0"
        ],
        [
         "max",
         "154.0",
         "3100.0"
        ]
       ],
       "shape": {
        "columns": 2,
        "rows": 8
       }
      },
      "text/html": [
       "<div>\n",
       "<style scoped>\n",
       "    .dataframe tbody tr th:only-of-type {\n",
       "        vertical-align: middle;\n",
       "    }\n",
       "\n",
       "    .dataframe tbody tr th {\n",
       "        vertical-align: top;\n",
       "    }\n",
       "\n",
       "    .dataframe thead th {\n",
       "        text-align: right;\n",
       "    }\n",
       "</style>\n",
       "<table border=\"1\" class=\"dataframe\">\n",
       "  <thead>\n",
       "    <tr style=\"text-align: right;\">\n",
       "      <th></th>\n",
       "      <th>Nr.</th>\n",
       "      <th>Measurement Time (ms)</th>\n",
       "    </tr>\n",
       "  </thead>\n",
       "  <tbody>\n",
       "    <tr>\n",
       "      <th>count</th>\n",
       "      <td>68.000000</td>\n",
       "      <td>25.000000</td>\n",
       "    </tr>\n",
       "    <tr>\n",
       "      <th>mean</th>\n",
       "      <td>65.088235</td>\n",
       "      <td>365.150970</td>\n",
       "    </tr>\n",
       "    <tr>\n",
       "      <th>std</th>\n",
       "      <td>44.229974</td>\n",
       "      <td>729.108281</td>\n",
       "    </tr>\n",
       "    <tr>\n",
       "      <th>min</th>\n",
       "      <td>1.000000</td>\n",
       "      <td>4.900000</td>\n",
       "    </tr>\n",
       "    <tr>\n",
       "      <th>25%</th>\n",
       "      <td>25.750000</td>\n",
       "      <td>18.220000</td>\n",
       "    </tr>\n",
       "    <tr>\n",
       "      <th>50%</th>\n",
       "      <td>66.000000</td>\n",
       "      <td>49.200000</td>\n",
       "    </tr>\n",
       "    <tr>\n",
       "      <th>75%</th>\n",
       "      <td>94.500000</td>\n",
       "      <td>260.000000</td>\n",
       "    </tr>\n",
       "    <tr>\n",
       "      <th>max</th>\n",
       "      <td>154.000000</td>\n",
       "      <td>3100.000000</td>\n",
       "    </tr>\n",
       "  </tbody>\n",
       "</table>\n",
       "</div>"
      ],
      "text/plain": [
       "              Nr.  Measurement Time (ms)\n",
       "count   68.000000              25.000000\n",
       "mean    65.088235             365.150970\n",
       "std     44.229974             729.108281\n",
       "min      1.000000               4.900000\n",
       "25%     25.750000              18.220000\n",
       "50%     66.000000              49.200000\n",
       "75%     94.500000             260.000000\n",
       "max    154.000000            3100.000000"
      ]
     },
     "execution_count": 8,
     "metadata": {},
     "output_type": "execute_result"
    }
   ],
   "source": [
    "file_path = '../02_SLR_20250726.xlsx'\n",
    "\n",
    "# Read the Excel file and filter rows where 'EC/!IC' is NaN\n",
    "df_2 = pd.read_excel(file_path, sheet_name='SLR - 26.07.2025', header=1)\n",
    "df_2 = df_2[df_2['EC/!IC'].isna()]\n",
    "df_2 = df_2[['Nr.', 'Measurement Time (ms)']]\n",
    "\n",
    "df_2['Measurement Time (ms)'] = df_2['Measurement Time (ms)'].replace('-', np.nan)\n",
    "df_2['Measurement Time (ms)'] = pd.to_numeric(df_2['Measurement Time (ms)'], errors='coerce')\n",
    "\n",
    "df_2.describe()"
   ]
  },
  {
   "cell_type": "code",
   "execution_count": 9,
   "id": "8700c146",
   "metadata": {},
   "outputs": [
    {
     "data": {
      "image/png": "[encoded data removed]",
      "text/plain": [
       "<Figure size 620x400 with 1 Axes>"
      ]
     },
     "metadata": {},
     "output_type": "display_data"
    }
   ],
   "source": [
    "# CI-Colors\n",
    "nightBlue = '#000a32'\n",
    "purple    = '#8264ff'\n",
    "lightGray  = '#e6e6e6'\n",
    "darkGray = '#787882'\n",
    "\n",
    "# Palatino Fonts\n",
    "palatino_regular = fm.FontProperties(fname=r\"C:\\WINDOWS\\Fonts\\PALA.TTF\", size=10)\n",
    "palatino_small   = fm.FontProperties(fname=r\"C:\\WINDOWS\\Fonts\\PALA.TTF\", size=8)\n",
    "\n",
    "# Data\n",
    "data = df_2['Measurement Time (ms)'].dropna().astype(float)\n",
    "n = len(data)\n",
    "\n",
    "# Bins every 50 ms up to 500 ms\n",
    "bins = np.arange(0, 550, 50)\n",
    "\n",
    "# Plot\n",
    "fig, ax = plt.subplots(figsize=(6.2, 4.0))\n",
    "\n",
    "ax.hist(\n",
    "    data,\n",
    "    bins=bins,\n",
    "    color=purple,\n",
    "    edgecolor=nightBlue,\n",
    "    alpha=0.9\n",
    ")\n",
    "\n",
    "# Labels\n",
    "ax.set_xlabel(\"Measurement Time [ms]\", fontproperties=palatino_regular, fontsize=11)\n",
    "ax.set_ylabel(\"Frequency\", fontproperties=palatino_regular, fontsize=11)\n",
    "\n",
    "# X-Ticks exactly at the bin edges\n",
    "ax.set_xticks(bins)\n",
    "ax.set_xlim(0, 500)\n",
    "\n",
    "# Tick-Fonts\n",
    "for lbl in ax.get_xticklabels():\n",
    "    lbl.set_fontproperties(palatino_regular)\n",
    "    lbl.set_fontsize(10)\n",
    "for lbl in ax.get_yticklabels():\n",
    "    lbl.set_fontproperties(palatino_regular)\n",
    "    lbl.set_fontsize(10)\n",
    "\n",
    "# n = number of measurements with Measurement Time ≤ 500 ms\n",
    "values_over_500 = df_2[df_2['Measurement Time (ms)'] > 500]\n",
    "values_under_500 = len(data)-len(values_over_500)\n",
    "\n",
    "ax.text(0.78, 0.97, f\"n = {values_under_500} (of {len(data)} measurements [cutoff ≤ 500 ms])\",\n",
    "        transform=ax.transAxes,\n",
    "        ha='center', va='top',\n",
    "        fontproperties=palatino_small, fontsize=9, color=nightBlue)\n",
    "\n",
    "# Final Adjustments\n",
    "ax.grid(axis='y', linestyle='--', linewidth=0.5, color=lightGray, alpha=0.9)\n",
    "ax.spines['top'].set_visible(False)\n",
    "ax.spines['right'].set_visible(False)\n",
    "\n",
    "plt.tight_layout()\n",
    "plt.savefig(\"Plot Outputs/06_Measurement_Time.pdf\", dpi=600, bbox_inches=\"tight\", transparent=True)\n",
    "plt.show()"
   ]
  },
  {
   "cell_type": "code",
   "execution_count": 10,
   "id": "a6802a4b",
   "metadata": {},
   "outputs": [
    {
     "name": "stdout",
     "output_type": "stream",
     "text": [
      "Values are for the whole dataset including outliers (>500 ms):\n",
      "Measurement Time Mean: 365.1509703233093\n",
      "Measurement Time Median: 49.2\n",
      "Measurement Time Max: 3100.0\n",
      "Measurement Time Min: 4.9\n",
      "--------------------------------------------\n",
      "\n",
      "Values are for the reduced dataset excluding outliers (<=500 ms):\n",
      "Measurement Time Mean: 93.01305990870159\n",
      "Measurement Time Median: 42.0\n",
      "Measurement Time Max: 350.0\n",
      "Measurement Time Min: 4.9\n"
     ]
    }
   ],
   "source": [
    "print(\"Values are for the whole dataset including outliers (>500 ms):\")\n",
    "print(\"Measurement Time Mean:\", df_2['Measurement Time (ms)'].mean())\n",
    "print(\"Measurement Time Median:\", df_2['Measurement Time (ms)'].median())\n",
    "print(\"Measurement Time Max:\", df_2['Measurement Time (ms)'].max())\n",
    "print(\"Measurement Time Min:\", df_2['Measurement Time (ms)'].min())\n",
    "print(\"--------------------------------------------\\n\")\n",
    "\n",
    "values_under_500 = df_2[df_2['Measurement Time (ms)'] <= 500]\n",
    "print(\"Values are for the reduced dataset excluding outliers (<=500 ms):\")\n",
    "print(\"Measurement Time Mean:\", values_under_500['Measurement Time (ms)'].mean())\n",
    "print(\"Measurement Time Median:\", values_under_500['Measurement Time (ms)'].median())\n",
    "print(\"Measurement Time Max:\", values_under_500['Measurement Time (ms)'].max())\n",
    "print(\"Measurement Time Min:\", values_under_500['Measurement Time (ms)'].min())"
   ]
  },
  {
   "cell_type": "markdown",
   "id": "a8a6ddd0",
   "metadata": {},
   "source": [
    "### Input Image Size in Pixel"
   ]
  },
  {
   "cell_type": "code",
   "execution_count": 11,
   "id": "4b407143",
   "metadata": {},
   "outputs": [
    {
     "data": {
      "text/plain": [
       "59"
      ]
     },
     "execution_count": 11,
     "metadata": {},
     "output_type": "execute_result"
    }
   ],
   "source": [
    "file_path = '../02_SLR_20250726.xlsx'\n",
    "\n",
    "# Read the Excel file and filter rows where 'EC/!IC' is NaN\n",
    "df_3 = pd.read_excel(file_path, sheet_name='SLR - 26.07.2025', header=1)\n",
    "df_3 = df_3[df_3['EC/!IC'].isna()]\n",
    "df_3 = df_3[['Nr.', 'Model Input Image Size']]\n",
    "\n",
    "df_3 = df_3[df_3['Model Input Image Size'].str.contains('x', na=False)]\n",
    "\n",
    "len(df_3['Model Input Image Size'])"
   ]
  },
  {
   "cell_type": "code",
   "execution_count": 12,
   "id": "7ba0812a",
   "metadata": {},
   "outputs": [
    {
     "data": {
      "image/png": "[encoded data removed]",
      "text/plain": [
       "<Figure size 700x600 with 2 Axes>"
      ]
     },
     "metadata": {},
     "output_type": "display_data"
    }
   ],
   "source": [
    "from matplotlib.colors import LinearSegmentedColormap\n",
    "\n",
    "# Function to extract width and height from 'Model Input Image Size'\n",
    "def extract_dimensions(value):\n",
    "    parts = value.split('x')\n",
    "    if len(parts) >= 2:\n",
    "        try:\n",
    "            width = int(parts[0].strip().split()[-1])\n",
    "            height = int(parts[1].strip().split()[0])\n",
    "            return pd.Series([width, height])\n",
    "        except ValueError:\n",
    "            return pd.Series([None, None])\n",
    "    return pd.Series([None, None])\n",
    "\n",
    "# Create new columns for Pixel Width and Pixel Height\n",
    "df_3[['Pixel Width', 'Pixel Height']] = df_3['Model Input Image Size'].apply(extract_dimensions)\n",
    "\n",
    "\n",
    "# CI-Colors\n",
    "nightBlue = '#000a32'\n",
    "purple = '#8264ff'\n",
    "lightGray = '#e6e6e6'\n",
    "green = '#00b464'\n",
    "\n",
    "# Load font\n",
    "palatino_regular = fm.FontProperties(fname=r\"C:\\WINDOWS\\Fonts\\PALA.TTF\", size=11)\n",
    "\n",
    "# Custom Colormap from Purple to Green\n",
    "ci_cmap = LinearSegmentedColormap.from_list(\"CI_cmap\", [purple, green])\n",
    "\n",
    "# Cutoff at 1500 px for both width and height\n",
    "df_filtered = df_3[(df_3['Pixel Width'] <= 1500) & (df_3['Pixel Height'] <= 1500)]\n",
    "\n",
    "# Group by pixel sizes and count frequency\n",
    "size_counts = df_filtered.groupby(['Pixel Width', 'Pixel Height']).size().reset_index(name='Count')\n",
    "\n",
    "# Scatterplot\n",
    "plt.figure(figsize=(7, 6))\n",
    "scatter = plt.scatter(\n",
    "    size_counts['Pixel Width'], size_counts['Pixel Height'],\n",
    "    s=size_counts['Count'] * 20,     # Punktgröße ~ Häufigkeit\n",
    "    c=size_counts['Count'],          # Farbe nach Häufigkeit\n",
    "    cmap=ci_cmap,\n",
    "    alpha=0.9,\n",
    "    edgecolors='black', linewidths=0.5\n",
    ")\n",
    "\n",
    "# Colorbar\n",
    "cbar = plt.colorbar(scatter)\n",
    "cbar.set_label('Frequency', fontproperties=palatino_regular, color=nightBlue, fontsize=11)\n",
    "cbar.ax.tick_params(colors=nightBlue, labelsize=9)\n",
    "for lbl in cbar.ax.get_yticklabels():\n",
    "    lbl.set_fontproperties(palatino_regular)\n",
    "\n",
    "# Axis labels\n",
    "plt.xlabel('Pixel Width', fontproperties=palatino_regular, color=nightBlue, fontsize=12)\n",
    "plt.ylabel('Pixel Height', fontproperties=palatino_regular, color=nightBlue, fontsize=12)\n",
    "\n",
    "# Add Cutoff Information\n",
    "n_cutoff = len(df_filtered)\n",
    "plt.text(0.32, 0.97, f\"n = {n_cutoff} (of {len(df_3)} measurements [cutoff ≤ 1500 px])\",\n",
    "         transform=plt.gca().transAxes,\n",
    "         ha='center', va='top',\n",
    "         fontproperties=palatino_regular, fontsize=10, color=nightBlue)\n",
    "\n",
    "# Add Grid\n",
    "plt.grid(True, color=lightGray, linestyle='--', linewidth=0.6, alpha=0.8)\n",
    "\n",
    "# Ticks\n",
    "plt.tick_params(axis='both', colors=nightBlue, labelsize=10)\n",
    "for lbl in plt.gca().get_xticklabels() + plt.gca().get_yticklabels():\n",
    "    lbl.set_fontproperties(palatino_regular)\n",
    "\n",
    "\n",
    "plt.tight_layout()\n",
    "plt.savefig('Plot Outputs/07_Pixel_Sizes.pdf', dpi=600, bbox_inches='tight', transparent=True)\n",
    "plt.show()\n"
   ]
  },
  {
   "cell_type": "code",
   "execution_count": 13,
   "id": "25645460",
   "metadata": {},
   "outputs": [
    {
     "data": {
      "application/vnd.microsoft.datawrangler.viewer.v0+json": {
       "columns": [
        {
         "name": "index",
         "rawType": "int64",
         "type": "integer"
        },
        {
         "name": "Pixel Width",
         "rawType": "int64",
         "type": "integer"
        },
        {
         "name": "Pixel Height",
         "rawType": "int64",
         "type": "integer"
        },
        {
         "name": "Count",
         "rawType": "int64",
         "type": "integer"
        }
       ],
       "ref": "02b2d701-bca8-45d4-8622-bfeaf69d1ffd",
       "rows": [
        [
         "10",
         "256",
         "256",
         "8"
        ],
        [
         "24",
         "640",
         "640",
         "8"
        ],
        [
         "7",
         "224",
         "224",
         "7"
        ],
        [
         "14",
         "416",
         "416",
         "3"
        ],
        [
         "20",
         "512",
         "512",
         "3"
        ],
        [
         "12",
         "300",
         "300",
         "2"
        ],
        [
         "4",
         "128",
         "128",
         "2"
        ],
        [
         "1",
         "64",
         "64",
         "2"
        ],
        [
         "6",
         "200",
         "2050",
         "1"
        ],
        [
         "5",
         "200",
         "200",
         "1"
        ]
       ],
       "shape": {
        "columns": 3,
        "rows": 10
       }
      },
      "text/html": [
       "<div>\n",
       "<style scoped>\n",
       "    .dataframe tbody tr th:only-of-type {\n",
       "        vertical-align: middle;\n",
       "    }\n",
       "\n",
       "    .dataframe tbody tr th {\n",
       "        vertical-align: top;\n",
       "    }\n",
       "\n",
       "    .dataframe thead th {\n",
       "        text-align: right;\n",
       "    }\n",
       "</style>\n",
       "<table border=\"1\" class=\"dataframe\">\n",
       "  <thead>\n",
       "    <tr style=\"text-align: right;\">\n",
       "      <th></th>\n",
       "      <th>Pixel Width</th>\n",
       "      <th>Pixel Height</th>\n",
       "      <th>Count</th>\n",
       "    </tr>\n",
       "  </thead>\n",
       "  <tbody>\n",
       "    <tr>\n",
       "      <th>10</th>\n",
       "      <td>256</td>\n",
       "      <td>256</td>\n",
       "      <td>8</td>\n",
       "    </tr>\n",
       "    <tr>\n",
       "      <th>24</th>\n",
       "      <td>640</td>\n",
       "      <td>640</td>\n",
       "      <td>8</td>\n",
       "    </tr>\n",
       "    <tr>\n",
       "      <th>7</th>\n",
       "      <td>224</td>\n",
       "      <td>224</td>\n",
       "      <td>7</td>\n",
       "    </tr>\n",
       "    <tr>\n",
       "      <th>14</th>\n",
       "      <td>416</td>\n",
       "      <td>416</td>\n",
       "      <td>3</td>\n",
       "    </tr>\n",
       "    <tr>\n",
       "      <th>20</th>\n",
       "      <td>512</td>\n",
       "      <td>512</td>\n",
       "      <td>3</td>\n",
       "    </tr>\n",
       "    <tr>\n",
       "      <th>12</th>\n",
       "      <td>300</td>\n",
       "      <td>300</td>\n",
       "      <td>2</td>\n",
       "    </tr>\n",
       "    <tr>\n",
       "      <th>4</th>\n",
       "      <td>128</td>\n",
       "      <td>128</td>\n",
       "      <td>2</td>\n",
       "    </tr>\n",
       "    <tr>\n",
       "      <th>1</th>\n",
       "      <td>64</td>\n",
       "      <td>64</td>\n",
       "      <td>2</td>\n",
       "    </tr>\n",
       "    <tr>\n",
       "      <th>6</th>\n",
       "      <td>200</td>\n",
       "      <td>2050</td>\n",
       "      <td>1</td>\n",
       "    </tr>\n",
       "    <tr>\n",
       "      <th>5</th>\n",
       "      <td>200</td>\n",
       "      <td>200</td>\n",
       "      <td>1</td>\n",
       "    </tr>\n",
       "  </tbody>\n",
       "</table>\n",
       "</div>"
      ],
      "text/plain": [
       "    Pixel Width  Pixel Height  Count\n",
       "10          256           256      8\n",
       "24          640           640      8\n",
       "7           224           224      7\n",
       "14          416           416      3\n",
       "20          512           512      3\n",
       "12          300           300      2\n",
       "4           128           128      2\n",
       "1            64            64      2\n",
       "6           200          2050      1\n",
       "5           200           200      1"
      ]
     },
     "execution_count": 13,
     "metadata": {},
     "output_type": "execute_result"
    }
   ],
   "source": [
    "# Count occurrences of each (Pixel Width, Pixel Height) combination\n",
    "top_combinations = (\n",
    "    df_3.groupby(['Pixel Width', 'Pixel Height'])\n",
    "    .size()\n",
    "    .reset_index(name='Count')\n",
    "    .sort_values(by='Count', ascending=False)\n",
    ")\n",
    "\n",
    "# Show top 10 combinations\n",
    "top_combinations.head(10)"
   ]
  },
  {
   "cell_type": "markdown",
   "id": "c4962770",
   "metadata": {},
   "source": [
    "# Dataset Size"
   ]
  },
  {
   "cell_type": "code",
   "execution_count": 14,
   "id": "55a14e27",
   "metadata": {},
   "outputs": [
    {
     "data": {
      "application/vnd.microsoft.datawrangler.viewer.v0+json": {
       "columns": [
        {
         "name": "index",
         "rawType": "object",
         "type": "string"
        },
        {
         "name": "Nr.",
         "rawType": "float64",
         "type": "float"
        },
        {
         "name": "Dataset Size",
         "rawType": "float64",
         "type": "float"
        }
       ],
       "ref": "5aafacbe-9106-4398-9cfa-727e7a4870f8",
       "rows": [
        [
         "count",
         "68.0",
         "67.0"
        ],
        [
         "mean",
         "65.08823529411765",
         "28895.55223880597"
        ],
        [
         "std",
         "44.22997406504504",
         "158427.1921428936"
        ],
        [
         "min",
         "1.0",
         "28.0"
        ],
        [
         "25%",
         "25.75",
         "1450.0"
        ],
        [
         "50%",
         "66.0",
         "3231.0"
        ],
        [
         "75%",
         "94.5",
         "10882.0"
        ],
        [
         "max",
         "154.0",
         "1299200.0"
        ]
       ],
       "shape": {
        "columns": 2,
        "rows": 8
       }
      },
      "text/html": [
       "<div>\n",
       "<style scoped>\n",
       "    .dataframe tbody tr th:only-of-type {\n",
       "        vertical-align: middle;\n",
       "    }\n",
       "\n",
       "    .dataframe tbody tr th {\n",
       "        vertical-align: top;\n",
       "    }\n",
       "\n",
       "    .dataframe thead th {\n",
       "        text-align: right;\n",
       "    }\n",
       "</style>\n",
       "<table border=\"1\" class=\"dataframe\">\n",
       "  <thead>\n",
       "    <tr style=\"text-align: right;\">\n",
       "      <th></th>\n",
       "      <th>Nr.</th>\n",
       "      <th>Dataset Size</th>\n",
       "    </tr>\n",
       "  </thead>\n",
       "  <tbody>\n",
       "    <tr>\n",
       "      <th>count</th>\n",
       "      <td>68.000000</td>\n",
       "      <td>6.700000e+01</td>\n",
       "    </tr>\n",
       "    <tr>\n",
       "      <th>mean</th>\n",
       "      <td>65.088235</td>\n",
       "      <td>2.889555e+04</td>\n",
       "    </tr>\n",
       "    <tr>\n",
       "      <th>std</th>\n",
       "      <td>44.229974</td>\n",
       "      <td>1.584272e+05</td>\n",
       "    </tr>\n",
       "    <tr>\n",
       "      <th>min</th>\n",
       "      <td>1.000000</td>\n",
       "      <td>2.800000e+01</td>\n",
       "    </tr>\n",
       "    <tr>\n",
       "      <th>25%</th>\n",
       "      <td>25.750000</td>\n",
       "      <td>1.450000e+03</td>\n",
       "    </tr>\n",
       "    <tr>\n",
       "      <th>50%</th>\n",
       "      <td>66.000000</td>\n",
       "      <td>3.231000e+03</td>\n",
       "    </tr>\n",
       "    <tr>\n",
       "      <th>75%</th>\n",
       "      <td>94.500000</td>\n",
       "      <td>1.088200e+04</td>\n",
       "    </tr>\n",
       "    <tr>\n",
       "      <th>max</th>\n",
       "      <td>154.000000</td>\n",
       "      <td>1.299200e+06</td>\n",
       "    </tr>\n",
       "  </tbody>\n",
       "</table>\n",
       "</div>"
      ],
      "text/plain": [
       "              Nr.  Dataset Size\n",
       "count   68.000000  6.700000e+01\n",
       "mean    65.088235  2.889555e+04\n",
       "std     44.229974  1.584272e+05\n",
       "min      1.000000  2.800000e+01\n",
       "25%     25.750000  1.450000e+03\n",
       "50%     66.000000  3.231000e+03\n",
       "75%     94.500000  1.088200e+04\n",
       "max    154.000000  1.299200e+06"
      ]
     },
     "execution_count": 14,
     "metadata": {},
     "output_type": "execute_result"
    }
   ],
   "source": [
    "file_path = '../02_SLR_20250726.xlsx'\n",
    "\n",
    "# Read the Excel file and filter rows where 'EC/!IC' is NaN\n",
    "df_4 = pd.read_excel(file_path, sheet_name='SLR - 26.07.2025', header=1)\n",
    "df_4 = df_4[df_4['EC/!IC'].isna()]\n",
    "df_4 = df_4[['Nr.', 'Dataset Size']]\n",
    "\n",
    "df_4['Dataset Size'] = pd.to_numeric(df_4['Dataset Size'], errors='coerce').dropna().astype(int)\n",
    "\n",
    "df_4.describe()"
   ]
  },
  {
   "cell_type": "code",
   "execution_count": 15,
   "id": "36512be5",
   "metadata": {},
   "outputs": [
    {
     "data": {
      "image/png": "[encoded data removed]",
      "text/plain": [
       "<Figure size 450x420 with 1 Axes>"
      ]
     },
     "metadata": {},
     "output_type": "display_data"
    }
   ],
   "source": [
    "from matplotlib.ticker import FuncFormatter\n",
    "\n",
    "# CI-Colors\n",
    "nightBlue = '#000a32'\n",
    "purple    = '#8264ff'\n",
    "lightGray  = '#e6e6e6'\n",
    "darkGray = '#787882'\n",
    "\n",
    "# Palatino Fonts\n",
    "palatino_regular = fm.FontProperties(fname=r\"C:\\WINDOWS\\Fonts\\PALA.TTF\", size=10)\n",
    "palatino_small   = fm.FontProperties(fname=r\"C:\\WINDOWS\\Fonts\\PALA.TTF\", size=8)\n",
    "palatino_bold    = fm.FontProperties(fname=r\"C:\\WINDOWS\\Fonts\\PALAB.TTF\", size=11)\n",
    "\n",
    "# Data Preprocessing\n",
    "data = df_4['Dataset Size'].dropna().astype(float)\n",
    "data = data[data < 50000]  # Cutoff\n",
    "n = len(data)\n",
    "median_val = np.median(data)\n",
    "mean_val   = np.mean(data)\n",
    "\n",
    "# Create Boxplot\n",
    "fig, ax = plt.subplots(figsize=(4.5, 4.2))\n",
    "\n",
    "box = ax.boxplot(\n",
    "    [data],\n",
    "    positions=[1],\n",
    "    widths=0.6,\n",
    "    patch_artist=True,\n",
    "    showfliers=True,\n",
    "    showmeans=True,\n",
    "    flierprops={\n",
    "        'marker': 'o',\n",
    "        'markersize': 5,\n",
    "        'markerfacecolor': purple,\n",
    "        'markeredgecolor': nightBlue,\n",
    "        'alpha': 0.95\n",
    "    },\n",
    "    boxprops={\n",
    "        'facecolor': purple,\n",
    "        'edgecolor': nightBlue,\n",
    "        'linewidth': 1\n",
    "    },\n",
    "    whiskerprops={\n",
    "        'color': nightBlue,\n",
    "        'linewidth': 1\n",
    "    },\n",
    "    capprops={\n",
    "        'color': nightBlue,\n",
    "        'linewidth': 1\n",
    "    },\n",
    "    medianprops={\n",
    "        'color': nightBlue,\n",
    "        'linewidth': 2\n",
    "    },\n",
    "    meanprops={\n",
    "        'marker': 'D',\n",
    "        'markerfacecolor': nightBlue,\n",
    "        'markeredgecolor': nightBlue,\n",
    "        'markersize': 3\n",
    "    },\n",
    "    whis=1.5\n",
    ")\n",
    "\n",
    "# Axis labelling\n",
    "ax.set_xticks([1])\n",
    "ax.set_xticklabels(['Dataset Volume'],\n",
    "                   fontproperties=palatino_bold, fontsize=11)\n",
    "\n",
    "ax.set_ylabel('# of Images', fontproperties=palatino_bold, fontsize=11, labelpad=10)\n",
    "ax.set_ylim(0, 52500)\n",
    "ax.yaxis.set_major_formatter(FuncFormatter(lambda x, _: f'{int(x):,}'))\n",
    "\n",
    "# Ticks formatting\n",
    "ax.tick_params(axis='both', labelsize=11)\n",
    "for label in ax.get_xticklabels() + ax.get_yticklabels():\n",
    "    label.set_fontproperties(palatino_regular)\n",
    "\n",
    "# Median Value right next to the box\n",
    "verts = box['boxes'][0].get_path().vertices\n",
    "x_right_box = np.max(verts[:, 0])\n",
    "x_text = x_right_box + 0.02\n",
    "ax.text(x_text, median_val, f\"{median_val:,.0f}\",\n",
    "        ha='left', va='center',\n",
    "        fontproperties=palatino_regular, fontsize=9,\n",
    "        color=nightBlue)\n",
    "\n",
    "# Mean value right next to the box\n",
    "verts = box['boxes'][0].get_path().vertices\n",
    "x_right_box = np.max(verts[:, 0])\n",
    "x_text = x_right_box + 0.02\n",
    "ax.text(x_text, mean_val, f\"{int(round(mean_val)):,}\",\n",
    "        ha='left', va='center',\n",
    "        fontproperties=palatino_regular, fontsize=9,\n",
    "        color=nightBlue)\n",
    "\n",
    "# Add n information\n",
    "n_cutoff = len(data)\n",
    "plt.text(0.98, 0.98, f\"n = {n_cutoff}\\n(of {len(df_4)} datasets used\\n[cutoff ≤ 50,000])\",\n",
    "         transform=plt.gca().transAxes,\n",
    "         ha='right', va='top',\n",
    "         fontproperties=palatino_regular, fontsize=10, color=nightBlue)\n",
    "\n",
    "# Legend\n",
    "median_handle = Line2D([0], [0], color=nightBlue, lw=2, label='Median')\n",
    "mean_handle = Line2D([0], [0], marker='D', color='w', markerfacecolor=nightBlue,\n",
    "                     markeredgecolor=nightBlue, markersize=6, linestyle='None', label='Mean')\n",
    "outlier_handle = Line2D([0], [0], marker='o', color='w', markerfacecolor=purple,\n",
    "                        markeredgecolor=nightBlue, markersize=6, linestyle='None', label='Outlier')\n",
    "\n",
    "ax.legend(handles=[median_handle, mean_handle, outlier_handle],\n",
    "          loc='upper center', bbox_to_anchor=(0.5, -0.1),\n",
    "          ncol=3, prop=palatino_small, frameon=False)\n",
    "\n",
    "# Add Grid\n",
    "ax.grid(axis='y', linestyle='--', linewidth=0.5, color=lightGray, alpha=0.9)\n",
    "\n",
    "plt.tight_layout()\n",
    "plt.savefig('Plot Outputs/08_Dataset_Size.pdf', dpi=600, bbox_inches='tight', transparent=True)\n",
    "plt.show()\n"
   ]
  },
  {
   "cell_type": "code",
   "execution_count": 17,
   "id": "e2ded20a",
   "metadata": {},
   "outputs": [
    {
     "name": "stdout",
     "output_type": "stream",
     "text": [
      "Boxplot values for the filtered data (<50,000 images):\n",
      "Minimum: 28\n",
      "Q1 (25th percentile): 1,350\n",
      "Median (50th percentile): 3,011\n",
      "Q3 (75th percentile): 8,633\n",
      "Maximum: 46,293\n",
      "IQR (Q3 - Q1): 7,283\n",
      "\n",
      "--------------------------------\n",
      "\n",
      "Values are for the datasets in the plot (<50,000 images):\n",
      "Dataset Size Mean: 7253.015625\n",
      "Dataset Size Median: 3011.0\n",
      "Dataset Size Max: 46293.0\n",
      "Dataset Size Min: 28.0\n",
      "\n",
      "--------------------------------\n",
      "\n",
      "Values are for the whole dataset including outliers (>50,000 images):\n",
      "Dataset Size Mean: 28895.55223880597\n",
      "Dataset Size Median: 3231.0\n",
      "Dataset Size Max: 1299200.0\n",
      "Dataset Size Min: 28.0\n"
     ]
    }
   ],
   "source": [
    "# Boxplot values for the filtered data (<50,000 images)\n",
    "q1 = data.quantile(0.25)\n",
    "median_val = data.median()\n",
    "q3 = data.quantile(0.75)\n",
    "iqr = q3 - q1\n",
    "minimum = data.min()\n",
    "maximum = data.max()\n",
    "\n",
    "print(\"Boxplot values for the filtered data (<50,000 images):\")\n",
    "print(f\"Minimum: {minimum:,.0f}\")\n",
    "print(f\"Q1 (25th percentile): {q1:,.0f}\")\n",
    "print(f\"Median (50th percentile): {median_val:,.0f}\")\n",
    "print(f\"Q3 (75th percentile): {q3:,.0f}\")\n",
    "print(f\"Maximum: {maximum:,.0f}\")\n",
    "print(f\"IQR (Q3 - Q1): {iqr:,.0f}\")\n",
    "print(\"\\n--------------------------------\\n\")\n",
    "\n",
    "print(\"Values are for the datasets in the plot (<50,000 images):\")\n",
    "print(\"Dataset Size Mean:\", data.mean())\n",
    "print(\"Dataset Size Median:\", data.median())\n",
    "print(\"Dataset Size Max:\", data.max())\n",
    "print(\"Dataset Size Min:\", data.min())\n",
    "print(\"\\n--------------------------------\\n\")\n",
    "\n",
    "print(\"Values are for the whole dataset including outliers (>50,000 images):\")\n",
    "print(\"Dataset Size Mean:\", df_4['Dataset Size'].mean())\n",
    "print(\"Dataset Size Median:\", df_4['Dataset Size'].median())\n",
    "print(\"Dataset Size Max:\", df_4['Dataset Size'].max())\n",
    "print(\"Dataset Size Min:\", df_4['Dataset Size'].min())"
   ]
  },
  {
   "cell_type": "markdown",
   "id": "f215ecba",
   "metadata": {},
   "source": [
    "## AI-Methods"
   ]
  },
  {
   "cell_type": "code",
   "execution_count": 12,
   "id": "f891cc8d",
   "metadata": {},
   "outputs": [
    {
     "data": {
      "application/vnd.microsoft.datawrangler.viewer.v0+json": {
       "columns": [
        {
         "name": "index",
         "rawType": "int64",
         "type": "integer"
        },
        {
         "name": "Nr.",
         "rawType": "int64",
         "type": "integer"
        },
        {
         "name": "AI-Method",
         "rawType": "object",
         "type": "string"
        }
       ],
       "ref": "877e89fd-c7e3-4a8c-a70e-b0a825201c35",
       "rows": [
        [
         "4",
         "1",
         "CNN; FCN"
        ],
        [
         "5",
         "2",
         "CNN"
        ]
       ],
       "shape": {
        "columns": 2,
        "rows": 2
       }
      },
      "text/html": [
       "<div>\n",
       "<style scoped>\n",
       "    .dataframe tbody tr th:only-of-type {\n",
       "        vertical-align: middle;\n",
       "    }\n",
       "\n",
       "    .dataframe tbody tr th {\n",
       "        vertical-align: top;\n",
       "    }\n",
       "\n",
       "    .dataframe thead th {\n",
       "        text-align: right;\n",
       "    }\n",
       "</style>\n",
       "<table border=\"1\" class=\"dataframe\">\n",
       "  <thead>\n",
       "    <tr style=\"text-align: right;\">\n",
       "      <th></th>\n",
       "      <th>Nr.</th>\n",
       "      <th>AI-Method</th>\n",
       "    </tr>\n",
       "  </thead>\n",
       "  <tbody>\n",
       "    <tr>\n",
       "      <th>4</th>\n",
       "      <td>1</td>\n",
       "      <td>CNN; FCN</td>\n",
       "    </tr>\n",
       "    <tr>\n",
       "      <th>5</th>\n",
       "      <td>2</td>\n",
       "      <td>CNN</td>\n",
       "    </tr>\n",
       "  </tbody>\n",
       "</table>\n",
       "</div>"
      ],
      "text/plain": [
       "   Nr. AI-Method\n",
       "4    1  CNN; FCN\n",
       "5    2       CNN"
      ]
     },
     "execution_count": 12,
     "metadata": {},
     "output_type": "execute_result"
    }
   ],
   "source": [
    "file_path = '../02_SLR_20250726.xlsx'\n",
    "\n",
    "# Read the Excel file and filter rows where 'EC/!IC' is NaN\n",
    "df_5 = pd.read_excel(file_path, sheet_name='SLR - 26.07.2025', header=1)\n",
    "df_5 = df_5[df_5['EC/!IC'].isna()]\n",
    "df_5 = df_5[['Nr.', 'AI-Method']]\n",
    "\n",
    "df_5['AI-Method'] = df_5['AI-Method'].astype(str)\n",
    "\n",
    "df_5.head(2)"
   ]
  },
  {
   "cell_type": "code",
   "execution_count": null,
   "id": "a5874372",
   "metadata": {},
   "outputs": [
    {
     "name": "stdout",
     "output_type": "stream",
     "text": [
      "        Method  Count  Percentage (%)\n",
      "0          CNN     66            63.5\n",
      "1       Others     22            21.2\n",
      "2  Autoencoder      5             4.8\n",
      "3  Transformer      5             4.8\n",
      "4          SVM      4             3.8\n",
      "5         GANs      2             1.9\n",
      "Sum:  104\n"
     ]
    }
   ],
   "source": [
    "from collections import Counter\n",
    "\n",
    "# Define Categories\n",
    "categories = {\n",
    "    \"CNN\": [\"cnn\", \"deep cnn\", \"faster r-cnn\", \"sdia-net\", \"convolutional u-net\", \"u-net\", \"vit-cnn\", \"vgg\", \"densenet\", \"efficientnet\", \"fcn\", \"siamese cnn\", \"convolutional spatial-to-depth\"],\n",
    "    \"Autoencoder\": [\"autoencoder\", \"autoencoders\", \"convolutional autoencoder\", \"cae\", \"autoclassifier\"],\n",
    "    \"GANs\": [\"gans\", \"generative adversarial\"],\n",
    "    \"Transformer\": [\"transformer\", \"vision transformer\", \"vit\", \"visual self-attention\", \"large language model\", \"llm\"],\n",
    "    \"SVM\": [\"support vector\", \"svm\"],\n",
    "    \"GNN\": [\"graph neural\", \"gnn\"],\n",
    "    \"RandomForest\": [\"random forest\", \"rf\"],\n",
    "    \"NAS\": [\"neural architecture search\", \"nas\"],\n",
    "    \"FNN\": [\"feedforward neural network\", \"fnn\"],\n",
    "    \"GA\": [\"genetic algorithm\", \"ga\"],\n",
    "    \"Diffusion\": [\"denoising diffusion\", \"ddpm\"],\n",
    "    \"Optimization\": [\"bayesian optimization\", \"bayeesian optimization\"],\n",
    "    \"Transfer Learning\": [\"transfer learning\"]\n",
    "}\n",
    "\n",
    "def normalize_method(method):\n",
    "    \"\"\"Assigns an entry to a category, if possible, otherwise return original.\"\"\"\n",
    "    m = method.lower().strip()\n",
    "    for cat, keywords in categories.items():\n",
    "        if any(kw in m for kw in keywords):\n",
    "            return cat\n",
    "    return \"Others\"  # everything else stays the same\n",
    "\n",
    "# Split at Semicolon\n",
    "methods_split = df_5['AI-Method'].dropna().str.split(';')\n",
    "\n",
    "# Normalize per line and avoid duplicates\n",
    "all_methods = []\n",
    "for sublist in methods_split:\n",
    "    normalized = {normalize_method(m) for m in sublist if m.strip() != \"\"}  # Set pro Paper\n",
    "    all_methods.extend(normalized)\n",
    "\n",
    "# Count\n",
    "method_counts = Counter(all_methods)\n",
    "\n",
    "# Create DataFrame including percentage\n",
    "method_counts_df = pd.DataFrame(method_counts.most_common(), columns=['Method', 'Count'])\n",
    "\n",
    "# Total number of all identified methods (mentions)\n",
    "total_identified = method_counts_df['Count'].sum()\n",
    "\n",
    "# Calculate percentage\n",
    "grouped_counts = Counter()\n",
    "for name, cnt in method_counts.items():\n",
    "    if cnt == 1:\n",
    "        grouped_counts['Others'] += 1\n",
    "    else:\n",
    "        grouped_counts[name] = cnt\n",
    "\n",
    "# Create DataFrame including percentage\n",
    "method_counts_df = pd.DataFrame(grouped_counts.most_common(), columns=['Method', 'Count'])\n",
    "total_identified = method_counts_df['Count'].sum()\n",
    "method_counts_df['Percentage (%)'] = (method_counts_df['Count'] / total_identified * 100).round(1)\n",
    "method_counts_df = method_counts_df.sort_values('Count', ascending=False).reset_index(drop=True)\n",
    "\n",
    "print(method_counts_df)\n",
    "print('Sum: ', method_counts_df['Count'].sum())\n"
   ]
  },
  {
   "cell_type": "markdown",
   "id": "625fd2df",
   "metadata": {},
   "source": [
    "## AI-Model Basis"
   ]
  },
  {
   "cell_type": "code",
   "execution_count": 14,
   "id": "dbcac35f",
   "metadata": {},
   "outputs": [
    {
     "data": {
      "application/vnd.microsoft.datawrangler.viewer.v0+json": {
       "columns": [
        {
         "name": "index",
         "rawType": "int64",
         "type": "integer"
        },
        {
         "name": "Nr.",
         "rawType": "int64",
         "type": "integer"
        },
        {
         "name": "Backbone",
         "rawType": "object",
         "type": "string"
        }
       ],
       "ref": "fc207420-32f1-4f2f-8652-972deb96d47c",
       "rows": [
        [
         "19",
         "8",
         "Swin model"
        ],
        [
         "21",
         "11",
         "ResNet50"
        ],
        [
         "31",
         "21",
         "VGG-16 "
        ],
        [
         "32",
         "22",
         "ResNet50"
        ],
        [
         "36",
         "23",
         "EfficientNetB6"
        ],
        [
         "42",
         "30",
         "SqueezeNet"
        ],
        [
         "49",
         "35",
         "VGG-16; DenseNet-121; EfficientNetV2/B; ViT-B/16"
        ],
        [
         "50",
         "36",
         "Inception V3; MobileNet V2; NasNet Large"
        ],
        [
         "53",
         "43",
         "ResNet50; Residual Block (RB); Residual Squeeze-and-Excitation Block (RSB); Residual Refinement Module \n(RRM)"
        ],
        [
         "54",
         "45",
         "ResNet-18"
        ],
        [
         "59",
         "50",
         "ResNet-18"
        ],
        [
         "60",
         "57",
         "ResNet50"
        ],
        [
         "64",
         "61",
         "ResNet-18; ResNet34; ResNet50; Transformer"
        ],
        [
         "70",
         "67",
         "ResNet50"
        ],
        [
         "76",
         "68",
         "ResNet50"
        ],
        [
         "77",
         "70",
         "Location Enhanced Ghost Network (LEG-Net); Refine Grouped Spatial Network (RGS-Net)"
        ],
        [
         "78",
         "72",
         "SDAE"
        ],
        [
         "81",
         "77",
         "MobileNetV2"
        ],
        [
         "83",
         "80",
         "ResNet34"
        ],
        [
         "87",
         "84",
         "Res2Net50, MobileNetV2"
        ],
        [
         "101",
         "94",
         "ResNet101"
        ],
        [
         "104",
         "97",
         "ResNet101"
        ],
        [
         "112",
         "98",
         "ResNet101"
        ],
        [
         "115",
         "99",
         "ResNet50"
        ],
        [
         "117",
         "104",
         "SqueezeNet"
        ],
        [
         "120",
         "117",
         "ResNet-18"
        ],
        [
         "136",
         "140",
         "MobileNet"
        ],
        [
         "143",
         "147",
         "VGG-16 "
        ],
        [
         "156",
         "153",
         "MobileNetV2"
        ],
        [
         "157",
         "154",
         "ResNet50"
        ]
       ],
       "shape": {
        "columns": 2,
        "rows": 30
       }
      },
      "text/html": [
       "<div>\n",
       "<style scoped>\n",
       "    .dataframe tbody tr th:only-of-type {\n",
       "        vertical-align: middle;\n",
       "    }\n",
       "\n",
       "    .dataframe tbody tr th {\n",
       "        vertical-align: top;\n",
       "    }\n",
       "\n",
       "    .dataframe thead th {\n",
       "        text-align: right;\n",
       "    }\n",
       "</style>\n",
       "<table border=\"1\" class=\"dataframe\">\n",
       "  <thead>\n",
       "    <tr style=\"text-align: right;\">\n",
       "      <th></th>\n",
       "      <th>Nr.</th>\n",
       "      <th>Backbone</th>\n",
       "    </tr>\n",
       "  </thead>\n",
       "  <tbody>\n",
       "    <tr>\n",
       "      <th>19</th>\n",
       "      <td>8</td>\n",
       "      <td>Swin model</td>\n",
       "    </tr>\n",
       "    <tr>\n",
       "      <th>21</th>\n",
       "      <td>11</td>\n",
       "      <td>ResNet50</td>\n",
       "    </tr>\n",
       "    <tr>\n",
       "      <th>31</th>\n",
       "      <td>21</td>\n",
       "      <td>VGG-16</td>\n",
       "    </tr>\n",
       "    <tr>\n",
       "      <th>32</th>\n",
       "      <td>22</td>\n",
       "      <td>ResNet50</td>\n",
       "    </tr>\n",
       "    <tr>\n",
       "      <th>36</th>\n",
       "      <td>23</td>\n",
       "      <td>EfficientNetB6</td>\n",
       "    </tr>\n",
       "    <tr>\n",
       "      <th>42</th>\n",
       "      <td>30</td>\n",
       "      <td>SqueezeNet</td>\n",
       "    </tr>\n",
       "    <tr>\n",
       "      <th>49</th>\n",
       "      <td>35</td>\n",
       "      <td>VGG-16; DenseNet-121; EfficientNetV2/B; ViT-B/16</td>\n",
       "    </tr>\n",
       "    <tr>\n",
       "      <th>50</th>\n",
       "      <td>36</td>\n",
       "      <td>Inception V3; MobileNet V2; NasNet Large</td>\n",
       "    </tr>\n",
       "    <tr>\n",
       "      <th>53</th>\n",
       "      <td>43</td>\n",
       "      <td>ResNet50; Residual Block (RB); Residual Squeez...</td>\n",
       "    </tr>\n",
       "    <tr>\n",
       "      <th>54</th>\n",
       "      <td>45</td>\n",
       "      <td>ResNet-18</td>\n",
       "    </tr>\n",
       "    <tr>\n",
       "      <th>59</th>\n",
       "      <td>50</td>\n",
       "      <td>ResNet-18</td>\n",
       "    </tr>\n",
       "    <tr>\n",
       "      <th>60</th>\n",
       "      <td>57</td>\n",
       "      <td>ResNet50</td>\n",
       "    </tr>\n",
       "    <tr>\n",
       "      <th>64</th>\n",
       "      <td>61</td>\n",
       "      <td>ResNet-18; ResNet34; ResNet50; Transformer</td>\n",
       "    </tr>\n",
       "    <tr>\n",
       "      <th>70</th>\n",
       "      <td>67</td>\n",
       "      <td>ResNet50</td>\n",
       "    </tr>\n",
       "    <tr>\n",
       "      <th>76</th>\n",
       "      <td>68</td>\n",
       "      <td>ResNet50</td>\n",
       "    </tr>\n",
       "    <tr>\n",
       "      <th>77</th>\n",
       "      <td>70</td>\n",
       "      <td>Location Enhanced Ghost Network (LEG-Net); Ref...</td>\n",
       "    </tr>\n",
       "    <tr>\n",
       "      <th>78</th>\n",
       "      <td>72</td>\n",
       "      <td>SDAE</td>\n",
       "    </tr>\n",
       "    <tr>\n",
       "      <th>81</th>\n",
       "      <td>77</td>\n",
       "      <td>MobileNetV2</td>\n",
       "    </tr>\n",
       "    <tr>\n",
       "      <th>83</th>\n",
       "      <td>80</td>\n",
       "      <td>ResNet34</td>\n",
       "    </tr>\n",
       "    <tr>\n",
       "      <th>87</th>\n",
       "      <td>84</td>\n",
       "      <td>Res2Net50, MobileNetV2</td>\n",
       "    </tr>\n",
       "    <tr>\n",
       "      <th>101</th>\n",
       "      <td>94</td>\n",
       "      <td>ResNet101</td>\n",
       "    </tr>\n",
       "    <tr>\n",
       "      <th>104</th>\n",
       "      <td>97</td>\n",
       "      <td>ResNet101</td>\n",
       "    </tr>\n",
       "    <tr>\n",
       "      <th>112</th>\n",
       "      <td>98</td>\n",
       "      <td>ResNet101</td>\n",
       "    </tr>\n",
       "    <tr>\n",
       "      <th>115</th>\n",
       "      <td>99</td>\n",
       "      <td>ResNet50</td>\n",
       "    </tr>\n",
       "    <tr>\n",
       "      <th>117</th>\n",
       "      <td>104</td>\n",
       "      <td>SqueezeNet</td>\n",
       "    </tr>\n",
       "    <tr>\n",
       "      <th>120</th>\n",
       "      <td>117</td>\n",
       "      <td>ResNet-18</td>\n",
       "    </tr>\n",
       "    <tr>\n",
       "      <th>136</th>\n",
       "      <td>140</td>\n",
       "      <td>MobileNet</td>\n",
       "    </tr>\n",
       "    <tr>\n",
       "      <th>143</th>\n",
       "      <td>147</td>\n",
       "      <td>VGG-16</td>\n",
       "    </tr>\n",
       "    <tr>\n",
       "      <th>156</th>\n",
       "      <td>153</td>\n",
       "      <td>MobileNetV2</td>\n",
       "    </tr>\n",
       "    <tr>\n",
       "      <th>157</th>\n",
       "      <td>154</td>\n",
       "      <td>ResNet50</td>\n",
       "    </tr>\n",
       "  </tbody>\n",
       "</table>\n",
       "</div>"
      ],
      "text/plain": [
       "     Nr.                                           Backbone\n",
       "19     8                                         Swin model\n",
       "21    11                                           ResNet50\n",
       "31    21                                            VGG-16 \n",
       "32    22                                           ResNet50\n",
       "36    23                                     EfficientNetB6\n",
       "42    30                                         SqueezeNet\n",
       "49    35   VGG-16; DenseNet-121; EfficientNetV2/B; ViT-B/16\n",
       "50    36           Inception V3; MobileNet V2; NasNet Large\n",
       "53    43  ResNet50; Residual Block (RB); Residual Squeez...\n",
       "54    45                                          ResNet-18\n",
       "59    50                                          ResNet-18\n",
       "60    57                                           ResNet50\n",
       "64    61         ResNet-18; ResNet34; ResNet50; Transformer\n",
       "70    67                                           ResNet50\n",
       "76    68                                           ResNet50\n",
       "77    70  Location Enhanced Ghost Network (LEG-Net); Ref...\n",
       "78    72                                               SDAE\n",
       "81    77                                        MobileNetV2\n",
       "83    80                                           ResNet34\n",
       "87    84                             Res2Net50, MobileNetV2\n",
       "101   94                                          ResNet101\n",
       "104   97                                          ResNet101\n",
       "112   98                                          ResNet101\n",
       "115   99                                           ResNet50\n",
       "117  104                                         SqueezeNet\n",
       "120  117                                          ResNet-18\n",
       "136  140                                          MobileNet\n",
       "143  147                                            VGG-16 \n",
       "156  153                                        MobileNetV2\n",
       "157  154                                           ResNet50"
      ]
     },
     "execution_count": 14,
     "metadata": {},
     "output_type": "execute_result"
    }
   ],
   "source": [
    "file_path = '../02_SLR_20250726.xlsx'\n",
    "\n",
    "# Read the Excel file and filter rows where 'EC/!IC' is NaN\n",
    "df_6 = pd.read_excel(file_path, sheet_name='SLR - 26.07.2025', header=1)\n",
    "df_6 = df_6[df_6['EC/!IC'].isna()]\n",
    "df_6 = df_6[['Nr.', 'Backbone']]\n",
    "\n",
    "# Remove all rows with '-' in the column 'Backbone' from df_6\n",
    "df_6 = df_6.drop(df_6[df_6['Backbone'] == '-'].index)\n",
    "df_6['Backbone'] = df_6['Backbone'].astype(str)\n",
    "\n",
    "df_6"
   ]
  },
  {
   "cell_type": "code",
   "execution_count": 15,
   "id": "4a050fc1",
   "metadata": {},
   "outputs": [
    {
     "name": "stdout",
     "output_type": "stream",
     "text": [
      "       Backbone  Count  Percentage (%)\n",
      "0        ResNet     19            51.4\n",
      "1     MobileNet      5            13.5\n",
      "2   Transformer      3             8.1\n",
      "3           VGG      3             8.1\n",
      "4  EfficientNet      2             5.4\n",
      "5    SqueezeNet      2             5.4\n",
      "6      DenseNet      1             2.7\n",
      "7     Inception      1             2.7\n",
      "8        NASNet      1             2.7\n",
      "Sum:  37\n"
     ]
    }
   ],
   "source": [
    "import re\n",
    "\n",
    "# Backbones definieren\n",
    "backbone_categories = {\n",
    "    \"ResNet\": [\"resnet18\", \"resnet-18\", \"resnet34\", \"resnet50\", \"resnet101\", \"res2net50\"],\n",
    "    \"MobileNet\": [\"mobilenet\", \"mobilenetv2\", \"mobilenet v2\", \"quantized ssd mobilenet\"],\n",
    "    \"EfficientNet\": [\"efficientnetb6\", \"efficientnetv2/b\", \"efficientnet\"],\n",
    "    \"VGG\": [\"vgg16\", \"vgg-16\", \"vgg\"],\n",
    "    \"DenseNet\": [\"densenet121\", \"densenet-121\", \"densenet\"],\n",
    "    \"Inception\": [\"inceptionv3\", \"inception v3\"],\n",
    "    \"UNet\": [\"unet\"],\n",
    "    \"SqueezeNet\": [\"squeezenet\"],\n",
    "    \"NASNet\": [\"nasnet\", \"nasnet large\"],\n",
    "    \"Transformer\": [\"vit\", \"vit-b/16\", \"swin\", \"transformer\", \"rt-detr\"]\n",
    "}\n",
    "\n",
    "# Function: find category if there is a keyword in the string\n",
    "def find_backbones(text):\n",
    "    if not isinstance(text, str):\n",
    "        return []\n",
    "    text = text.lower()\n",
    "    matches = []\n",
    "    for cat, keywords in backbone_categories.items():\n",
    "        for kw in keywords:\n",
    "            if kw.lower() in text:\n",
    "                matches.append(cat)\n",
    "                break\n",
    "    return matches\n",
    "\n",
    "# Split at semicolon or comma\n",
    "all_backbones = []\n",
    "for entry in df_6['Backbone'].dropna():\n",
    "    parts = [p.strip() for p in re.split(r'[;,]', entry) if p.strip() not in [\"\", \"-\"]]\n",
    "    for p in parts:\n",
    "        all_backbones.extend(find_backbones(p))\n",
    "\n",
    "# Counter\n",
    "backbone_counts = Counter(all_backbones)\n",
    "\n",
    "# Calculate total for percentage\n",
    "total = sum(backbone_counts.values())\n",
    "\n",
    "# Save results in a DataFrame including percentage\n",
    "df_backbones = pd.DataFrame(\n",
    "    [(cat, count, round(100*count/total, 1)) for cat, count in backbone_counts.most_common()],\n",
    "    columns=[\"Backbone\", \"Count\", \"Percentage (%)\"]\n",
    ")\n",
    "\n",
    "print(df_backbones)\n",
    "print('Sum: ', df_backbones['Count'].sum())"
   ]
  },
  {
   "cell_type": "markdown",
   "id": "5d198645",
   "metadata": {},
   "source": [
    "# Frameworks"
   ]
  },
  {
   "cell_type": "code",
   "execution_count": 16,
   "id": "a3de862b",
   "metadata": {},
   "outputs": [
    {
     "data": {
      "text/plain": [
       "array(['YOLOv3-SPP', 'YOLOv8', 'YOLOv3', 'YOLOv3; YOLOv4', 'YOLOv3-tiny',\n",
       "       'YOLOv7', 'YOLOv5', 'YOLOv8 (ELA-YOLO)', 'YOLOv5s', 'LFF-YOLOv8',\n",
       "       'Real-Time DEtection Transformer (RT-DETR)', 'YOLO', 'YOLOv11x',\n",
       "       'Quantized SSD Mobilenet'], dtype=object)"
      ]
     },
     "execution_count": 16,
     "metadata": {},
     "output_type": "execute_result"
    }
   ],
   "source": [
    "file_path = '../02_SLR_20250726.xlsx'\n",
    "\n",
    "# Read the Excel file and filter rows where 'EC/!IC' is NaN\n",
    "df_7 = pd.read_excel(file_path, sheet_name='SLR - 26.07.2025', header=1)\n",
    "df_7 = df_7[df_7['EC/!IC'].isna()]\n",
    "df_7 = df_7[['Nr.', 'Framework']]\n",
    "\n",
    "# Remove all rows with '-' in the column 'Framework' from df_7\n",
    "df_7 = df_7.drop(df_7[df_7['Framework'] == '-'].index)\n",
    "df_7['Framework'] = df_7['Framework'].astype(str)\n",
    "\n",
    "# Show distinct Frameworks\n",
    "df_7['Framework'].unique()"
   ]
  },
  {
   "cell_type": "code",
   "execution_count": 19,
   "id": "04702589",
   "metadata": {},
   "outputs": [
    {
     "name": "stdout",
     "output_type": "stream",
     "text": [
      "YOLO Count (all versions): 21\n",
      "YOLOv3 Count: 5\n",
      "YOLOv4 Count: 1\n",
      "YOLOv5 Count: 6\n",
      "YOLOv8 Count: 7\n",
      "YOLOv11 Count: 1\n",
      "YOLO version not given: 1\n"
     ]
    }
   ],
   "source": [
    "# Count occurrences of YOLO and its versions\n",
    "yolo_count = df_7['Framework'].str.contains('yolo', case=False, na=False).astype(int).sum()\n",
    "yolov3_count = df_7['Framework'].str.contains('yolov3', case=False, na=False).sum()\n",
    "yolov4_count = df_7['Framework'].str.contains('yolov4', case=False, na=False).sum()\n",
    "yolov5_count = df_7['Framework'].str.contains('yolov5', case=False, na=False).sum()\n",
    "yolov8_count = df_7['Framework'].str.contains('yolov8', case=False, na=False).sum()\n",
    "yolov11_count = df_7['Framework'].str.contains('yolov11', case=False, na=False).sum()\n",
    "yolo_exact_count = df_7['Framework'].str.fullmatch(r'(?i)YOLO', na=False).sum()\n",
    "\n",
    "print(\"YOLO Count (all versions):\", yolo_count)\n",
    "print(\"YOLOv3 Count:\", yolov3_count)\n",
    "print(\"YOLOv4 Count:\", yolov4_count)\n",
    "print(\"YOLOv5 Count:\", yolov5_count)\n",
    "print(\"YOLOv8 Count:\", yolov8_count)\n",
    "print(\"YOLOv11 Count:\", yolov11_count)\n",
    "print(\"YOLO version not given:\", yolo_exact_count)"
   ]
  }
 ],
 "metadata": {
  "kernelspec": {
   "display_name": "Python 3",
   "language": "python",
   "name": "python3"
  },
  "language_info": {
   "codemirror_mode": {
    "name": "ipython",
    "version": 3
   },
   "file_extension": ".py",
   "mimetype": "text/x-python",
   "name": "python",
   "nbconvert_exporter": "python",
   "pygments_lexer": "ipython3",
   "version": "3.13.3"
  }
 },
 "nbformat": 4,
 "nbformat_minor": 5
}
