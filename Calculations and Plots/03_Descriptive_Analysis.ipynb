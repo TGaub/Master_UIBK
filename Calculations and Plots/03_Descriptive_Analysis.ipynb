{
 "cells": [
  {
   "cell_type": "markdown",
   "id": "2330218c",
   "metadata": {},
   "source": [
    "### Systematic Literature Review - Descriptive Analysis\n",
    "Tamino Gaub  \n",
    "12314484  \n",
    "<tamino.gaub@student.uibk.ac.at> "
   ]
  },
  {
   "cell_type": "code",
   "execution_count": 25,
   "id": "3d7f96ae",
   "metadata": {},
   "outputs": [
    {
     "data": {
      "application/vnd.microsoft.datawrangler.viewer.v0+json": {
       "columns": [
        {
         "name": "index",
         "rawType": "int64",
         "type": "integer"
        },
        {
         "name": "Year",
         "rawType": "int64",
         "type": "integer"
        },
        {
         "name": "count",
         "rawType": "int64",
         "type": "integer"
        }
       ],
       "ref": "2cda155a-3391-43d6-91bb-91b00654d3c1",
       "rows": [
        [
         "9",
         "2025",
         "15"
        ],
        [
         "8",
         "2024",
         "15"
        ],
        [
         "7",
         "2023",
         "13"
        ],
        [
         "6",
         "2022",
         "8"
        ]
       ],
       "shape": {
        "columns": 2,
        "rows": 4
       }
      },
      "text/html": [
       "<div>\n",
       "<style scoped>\n",
       "    .dataframe tbody tr th:only-of-type {\n",
       "        vertical-align: middle;\n",
       "    }\n",
       "\n",
       "    .dataframe tbody tr th {\n",
       "        vertical-align: top;\n",
       "    }\n",
       "\n",
       "    .dataframe thead th {\n",
       "        text-align: right;\n",
       "    }\n",
       "</style>\n",
       "<table border=\"1\" class=\"dataframe\">\n",
       "  <thead>\n",
       "    <tr style=\"text-align: right;\">\n",
       "      <th></th>\n",
       "      <th>Year</th>\n",
       "      <th>count</th>\n",
       "    </tr>\n",
       "  </thead>\n",
       "  <tbody>\n",
       "    <tr>\n",
       "      <th>9</th>\n",
       "      <td>2025</td>\n",
       "      <td>15</td>\n",
       "    </tr>\n",
       "    <tr>\n",
       "      <th>8</th>\n",
       "      <td>2024</td>\n",
       "      <td>15</td>\n",
       "    </tr>\n",
       "    <tr>\n",
       "      <th>7</th>\n",
       "      <td>2023</td>\n",
       "      <td>13</td>\n",
       "    </tr>\n",
       "    <tr>\n",
       "      <th>6</th>\n",
       "      <td>2022</td>\n",
       "      <td>8</td>\n",
       "    </tr>\n",
       "  </tbody>\n",
       "</table>\n",
       "</div>"
      ],
      "text/plain": [
       "   Year  count\n",
       "9  2025     15\n",
       "8  2024     15\n",
       "7  2023     13\n",
       "6  2022      8"
      ]
     },
     "execution_count": 25,
     "metadata": {},
     "output_type": "execute_result"
    }
   ],
   "source": [
    "import warnings\n",
    "import pandas as pd\n",
    "\n",
    "# Suppress specific warnings\n",
    "warnings.simplefilter(action='ignore', category=UserWarning)\n",
    "\n",
    "file_path = '../02_SLR_20250726.xlsx'\n",
    "\n",
    "# Read the Excel file and filter rows where 'EC/!IC' is NaN\n",
    "df = pd.read_excel(file_path, sheet_name='SLR - 26.07.2025', header=1)\n",
    "df = df[df['EC/!IC'].isna()]\n",
    "df = df[['Title', 'Year', 'CiteScore', 'SJR']]\n",
    "\n",
    "# Count titles per year and save into df_pub\n",
    "df_pub = df.groupby('Year').agg(count=('Title', 'size')).reset_index().sort_values('Year', ascending=False)\n",
    "\n",
    "# Add all years from 2016 to 2025\n",
    "all_years = pd.DataFrame({'Year': range(2016, 2026)})\n",
    "\n",
    "# Merge with all years, filling missing values with count = 0\n",
    "df_pub = all_years.merge(df_pub, on='Year', how='left')\n",
    "df_pub['count'] = df_pub['count'].fillna(0).astype(int)\n",
    "df_pub = df_pub.sort_values('Year', ascending=False)\n",
    "\n",
    "df_pub.head(4)"
   ]
  },
  {
   "cell_type": "code",
   "execution_count": 26,
   "id": "1b9a7ddc",
   "metadata": {},
   "outputs": [
    {
     "data": {
      "image/png": "[encoded data removed]",
      "text/plain": [
       "<Figure size 623.4x311.7 with 1 Axes>"
      ]
     },
     "metadata": {},
     "output_type": "display_data"
    }
   ],
   "source": [
    "import matplotlib.pyplot as plt\n",
    "import matplotlib.font_manager as fm\n",
    "from matplotlib.ticker import MaxNLocator\n",
    "\n",
    "# Load fonts\n",
    "palatino_bold = fm.FontProperties(fname=r\"c:\\\\WINDOWS\\\\Fonts\\\\PALAB.TTF\")\n",
    "palatino_regular = fm.FontProperties(fname=r\"c:\\\\WINDOWS\\\\Fonts\\\\PALA.TTF\")\n",
    "\n",
    "# Adjust the size of the plot to the size of the LaTeX document\n",
    "fig, ax = plt.subplots(figsize=(6.234, 3.117)) # for 448.13 pt width\n",
    "\n",
    "# Prepare data and ensure it is sorted by year\n",
    "df_plot = df_pub.sort_values('Year').reset_index(drop=True)\n",
    "years = df_plot['Year'].astype(int).tolist()\n",
    "counts = df_plot['count'].tolist()\n",
    "\n",
    "# Define the target year that should be marked as preliminary\n",
    "target_year = 2025\n",
    "if target_year in years:\n",
    "    idx = years.index(target_year)\n",
    "else:\n",
    "    # fallback to the last year in the series if 2025 is not present\n",
    "    idx = len(years) - 1\n",
    "    target_year = years[idx]\n",
    "\n",
    "# Plot the line for the whole series (no markers)\n",
    "ax.plot(years, counts,\n",
    "        color='#000a32',\n",
    "        linewidth=1,\n",
    "        linestyle='-')\n",
    "\n",
    "# Plot filled markers for all years except the target year\n",
    "x_filled = [y for i, y in enumerate(years) if i != idx]\n",
    "y_filled = [c for i, c in enumerate(counts) if i != idx]\n",
    "ax.scatter(x_filled, y_filled,\n",
    "           s=25,\n",
    "           facecolor='#8264ff',\n",
    "           edgecolor='#000a32',\n",
    "           linewidth=1,\n",
    "           zorder=3)\n",
    "\n",
    "# Plot the target year (2025) as white-filled marker\n",
    "ax.scatter([target_year], [counts[idx]],\n",
    "           s=25,\n",
    "           facecolor='white',\n",
    "           edgecolor='#000a32',\n",
    "           linewidth=1,\n",
    "           zorder=4)\n",
    "\n",
    "# Add annotation for 2025\n",
    "ax.annotate(\"as of\\n28th July 2025\",\n",
    "            xy=(target_year, counts[idx]),\n",
    "            xytext=(0, -22.5), textcoords='offset points',\n",
    "            fontsize=9,\n",
    "            ha='center',    \n",
    "            fontstyle='italic',\n",
    "            fontproperties=palatino_regular,\n",
    "            color='#000a32')\n",
    "\n",
    "\n",
    "# Y-axis: Display whole numbers only\n",
    "ax.yaxis.set_major_locator(MaxNLocator(integer=True))\n",
    "\n",
    "# X-axis: Set ticks to each year\n",
    "ax.set_xticks(years)\n",
    "\n",
    "# Adjust the font size of the tick labels\n",
    "ax.tick_params(axis='x', labelsize=11)  # X-axis: 11pt\n",
    "ax.tick_params(axis='y', labelsize=11)  # Y-axis: 11pt\n",
    "\n",
    "# Update tick label font properties\n",
    "for label in ax.get_xticklabels():\n",
    "    label.set_fontproperties(palatino_regular)\n",
    "for label in ax.get_yticklabels():\n",
    "    label.set_fontproperties(palatino_regular)\n",
    "\n",
    "# Axis labels\n",
    "ax.set_xlabel('Year of Publication', fontsize=11, fontproperties=palatino_regular)\n",
    "ax.set_ylabel('# of Publications', fontsize=11, fontproperties=palatino_regular) # '# of Papers'\n",
    "ax.grid(axis='y', linestyle='--', linewidth=0.5, alpha=0.7, color='#aaaaab')\n",
    "\n",
    "# Display number of publications\n",
    "ax.text(0.025, 0.925, f\"n = {df_plot['count'].sum()} Publications\", transform=ax.transAxes,\n",
    "        ha='left', style='italic', fontproperties=palatino_regular, fontsize=9)\n",
    "\n",
    "# Only show left and bottom axes\n",
    "ax.spines['top'].set_visible(False)\n",
    "ax.spines['right'].set_visible(False)\n",
    "\n",
    "plt.tight_layout()\n",
    "plt.savefig('Plot Outputs/03_SLR_Publication_Trend.pdf', dpi=600, bbox_inches='tight', transparent=True)\n",
    "plt.show()"
   ]
  },
  {
   "cell_type": "code",
   "execution_count": 27,
   "id": "422cf125",
   "metadata": {},
   "outputs": [
    {
     "name": "stdout",
     "output_type": "stream",
     "text": [
      "Papers in the dataframe: 68\n",
      "Average SJR: 1.47\n",
      "Median SJR: 1.51\n",
      "Average CiteScore: 11.23\n",
      "Median CiteScore: 10.20\n"
     ]
    }
   ],
   "source": [
    "# Calculate statistics\n",
    "len_df = len(df)\n",
    "avg_sjr = pd.to_numeric(df['SJR'], errors='coerce').mean()\n",
    "avg_citescore = pd.to_numeric(df['CiteScore'], errors='coerce').mean()\n",
    "median_sjr = pd.to_numeric(df['SJR'], errors='coerce').median()\n",
    "median_citescore = pd.to_numeric(df['CiteScore'], errors='coerce').median()\n",
    "\n",
    "# Print statistics\n",
    "print(f\"Papers in the dataframe: {len_df}\")\n",
    "print(f\"Average SJR: {avg_sjr:.2f}\")\n",
    "print(f\"Median SJR: {median_sjr:.2f}\")\n",
    "print(f\"Average CiteScore: {avg_citescore:.2f}\")\n",
    "print(f\"Median CiteScore: {median_citescore:.2f}\")"
   ]
  },
  {
   "cell_type": "markdown",
   "id": "98a209e6",
   "metadata": {},
   "source": [
    "### Dataset and Code Availability"
   ]
  },
  {
   "cell_type": "code",
   "execution_count": 22,
   "id": "164e9a3a",
   "metadata": {},
   "outputs": [
    {
     "data": {
      "application/vnd.microsoft.datawrangler.viewer.v0+json": {
       "columns": [
        {
         "name": "index",
         "rawType": "int64",
         "type": "integer"
        },
        {
         "name": "Title",
         "rawType": "object",
         "type": "string"
        },
        {
         "name": "Dataset Av.",
         "rawType": "object",
         "type": "string"
        },
        {
         "name": "Code Av.",
         "rawType": "object",
         "type": "string"
        }
       ],
       "ref": "c2f3c113-2d81-41af-a388-3369869fcd57",
       "rows": [
        [
         "4",
         "Automatic zipper tape defect detection using two-stage multi-scale convolutional networks",
         "False",
         "False"
        ],
        [
         "5",
         "Artificial intelligence-enabled defect detection method and engineering application of ceramic mug",
         "On Request",
         "False"
        ],
        [
         "6",
         "Towards region-based robotic machining system from perspective of intelligent manufacturing: A technology framework with case study",
         "False",
         "False"
        ],
        [
         "7",
         "Semi-supervised adaptive network for commutator defect detection with limited labels",
         "False",
         "False"
        ],
        [
         "14",
         "Deep object detection framework for automated quality inspection in assembly operations",
         "False",
         "False"
        ]
       ],
       "shape": {
        "columns": 3,
        "rows": 5
       }
      },
      "text/html": [
       "<div>\n",
       "<style scoped>\n",
       "    .dataframe tbody tr th:only-of-type {\n",
       "        vertical-align: middle;\n",
       "    }\n",
       "\n",
       "    .dataframe tbody tr th {\n",
       "        vertical-align: top;\n",
       "    }\n",
       "\n",
       "    .dataframe thead th {\n",
       "        text-align: right;\n",
       "    }\n",
       "</style>\n",
       "<table border=\"1\" class=\"dataframe\">\n",
       "  <thead>\n",
       "    <tr style=\"text-align: right;\">\n",
       "      <th></th>\n",
       "      <th>Title</th>\n",
       "      <th>Dataset Av.</th>\n",
       "      <th>Code Av.</th>\n",
       "    </tr>\n",
       "  </thead>\n",
       "  <tbody>\n",
       "    <tr>\n",
       "      <th>4</th>\n",
       "      <td>Automatic zipper tape defect detection using t...</td>\n",
       "      <td>False</td>\n",
       "      <td>False</td>\n",
       "    </tr>\n",
       "    <tr>\n",
       "      <th>5</th>\n",
       "      <td>Artificial intelligence-enabled defect detecti...</td>\n",
       "      <td>On Request</td>\n",
       "      <td>False</td>\n",
       "    </tr>\n",
       "    <tr>\n",
       "      <th>6</th>\n",
       "      <td>Towards region-based robotic machining system ...</td>\n",
       "      <td>False</td>\n",
       "      <td>False</td>\n",
       "    </tr>\n",
       "    <tr>\n",
       "      <th>7</th>\n",
       "      <td>Semi-supervised adaptive network for commutato...</td>\n",
       "      <td>False</td>\n",
       "      <td>False</td>\n",
       "    </tr>\n",
       "    <tr>\n",
       "      <th>14</th>\n",
       "      <td>Deep object detection framework for automated ...</td>\n",
       "      <td>False</td>\n",
       "      <td>False</td>\n",
       "    </tr>\n",
       "  </tbody>\n",
       "</table>\n",
       "</div>"
      ],
      "text/plain": [
       "                                                Title Dataset Av. Code Av.\n",
       "4   Automatic zipper tape defect detection using t...       False    False\n",
       "5   Artificial intelligence-enabled defect detecti...  On Request    False\n",
       "6   Towards region-based robotic machining system ...       False    False\n",
       "7   Semi-supervised adaptive network for commutato...       False    False\n",
       "14  Deep object detection framework for automated ...       False    False"
      ]
     },
     "execution_count": 22,
     "metadata": {},
     "output_type": "execute_result"
    }
   ],
   "source": [
    "file_path = '../02_SLR_20250726.xlsx'\n",
    "\n",
    "# Read the Excel file and filter rows where 'EC/!IC' is NaN\n",
    "df = pd.read_excel(file_path, sheet_name='SLR - 26.07.2025', header=1)\n",
    "df = df[df['EC/!IC'].isna()]\n",
    "df = df[['Title', 'Dataset Av.', 'Code Av.']]\n",
    "\n",
    "# Set dtype to string for 'Dataset Av.' and 'Code Av.'\n",
    "df['Dataset Av.'] = df['Dataset Av.'].astype(str)\n",
    "df['Code Av.'] = df['Code Av.'].astype(str)\n",
    "df.head()"
   ]
  },
  {
   "cell_type": "code",
   "execution_count": 23,
   "id": "73d3232f",
   "metadata": {},
   "outputs": [
    {
     "name": "stdout",
     "output_type": "stream",
     "text": [
      "Distinct values in Code Av.: ['False' 'On Request' 'True']\n",
      "Distinct values in Dataset Av.: ['False' 'On Request' 'True']\n",
      "Number of entries in Code Av.: 68\n",
      "Number of entries in Dataset Av.: 68\n"
     ]
    }
   ],
   "source": [
    "# Show distinct values in 'Code Av.' and 'Dataset Av.' columns\n",
    "print('Distinct values in Code Av.:', df['Code Av.'].unique())\n",
    "print('Distinct values in Dataset Av.:', df['Dataset Av.'].unique())\n",
    "print('Number of entries in Code Av.:', df['Code Av.'].count())\n",
    "print('Number of entries in Dataset Av.:', df['Dataset Av.'].count())"
   ]
  },
  {
   "cell_type": "code",
   "execution_count": 24,
   "id": "4a946da3",
   "metadata": {},
   "outputs": [
    {
     "data": {
      "image/png": "[encoded data removed]",
      "text/plain": [
       "<Figure size 620x400 with 1 Axes>"
      ]
     },
     "metadata": {},
     "output_type": "display_data"
    }
   ],
   "source": [
    "import numpy as np\n",
    "\n",
    "# Load fonts\n",
    "palatino_bold = fm.FontProperties(fname=r\"c:\\WINDOWS\\Fonts\\PALAB.TTF\")\n",
    "palatino_regular = fm.FontProperties(fname=r\"c:\\WINDOWS\\Fonts\\PALA.TTF\")\n",
    "\n",
    "# Aggregate data\n",
    "categories = ['False', 'True','On Request']\n",
    "code_counts = df['Code Av.'].value_counts().reindex(categories, fill_value=0)\n",
    "dataset_counts = df['Dataset Av.'].value_counts().reindex(categories, fill_value=0)\n",
    "\n",
    "# Create a DataFrame for easier plotting\n",
    "counts = pd.DataFrame({\n",
    "    'Code Available': code_counts,\n",
    "    'Dataset Available': dataset_counts\n",
    "}).T\n",
    "\n",
    "# Plot settings\n",
    "fig, ax = plt.subplots(figsize=(6.2, 4))\n",
    "plt.subplots_adjust(left=0.12, right=0.95, top=0.9, bottom=0.15)\n",
    "x = np.arange(len(counts))  # Positionen für Gruppen (2)\n",
    "bar_width = 0.2\n",
    "colors = {\n",
    "    'False': '#d60909',       # Red\n",
    "    'On Request': '#000a32',  # Darkblue\n",
    "    'True': '#00b464'         # Green\n",
    "}\n",
    "\n",
    "# Plot bars for each category\n",
    "for i, cat in enumerate(categories):\n",
    "    bars = ax.bar(\n",
    "        x + (i - (len(categories)-1)/2) * bar_width,  # zentrieren\n",
    "        counts[cat],\n",
    "        width=bar_width,\n",
    "        label=cat,\n",
    "        color=colors[cat],\n",
    "        alpha=0.9\n",
    "    )\n",
    "\n",
    "    # Numbers above the bars\n",
    "    for bar in bars:\n",
    "        height = bar.get_height()\n",
    "        ax.text(\n",
    "            bar.get_x() + bar.get_width() / 2,\n",
    "            height + 0.2,\n",
    "            f\"{int(height)}\",\n",
    "            ha='center',\n",
    "            va='bottom',\n",
    "            fontproperties=palatino_regular,\n",
    "            fontsize=11,\n",
    "            color='#000000'\n",
    "        )\n",
    "\n",
    "# Adjust the font size of the tick labels\n",
    "ax.set_xticks(x)\n",
    "ax.set_xticklabels(counts.index, fontproperties=palatino_regular, fontsize=11)\n",
    "\n",
    "ax.set_ylabel(\"# of Publications\", fontproperties=palatino_regular, fontsize=11)\n",
    "\n",
    "# Adjust frames\n",
    "ax.spines['top'].set_visible(False)\n",
    "ax.spines['right'].set_visible(False)\n",
    "\n",
    "ax.grid(axis='y', linestyle='--', linewidth=0.5, alpha=0.7, color='#aaaaab')\n",
    "\n",
    "# Plot legend\n",
    "ax.legend(title=\"\", prop=palatino_regular, fontsize=11)\n",
    "\n",
    "plt.tight_layout()\n",
    "plt.savefig('Plot Outputs/04_Code_Dataset_Availability.pdf', dpi=600, bbox_inches='tight', transparent=True)\n",
    "plt.show()\n"
   ]
  }
 ],
 "metadata": {
  "kernelspec": {
   "display_name": "Python 3",
   "language": "python",
   "name": "python3"
  },
  "language_info": {
   "codemirror_mode": {
    "name": "ipython",
    "version": 3
   },
   "file_extension": ".py",
   "mimetype": "text/x-python",
   "name": "python",
   "nbconvert_exporter": "python",
   "pygments_lexer": "ipython3",
   "version": "3.13.3"
  }
 },
 "nbformat": 4,
 "nbformat_minor": 5
}
